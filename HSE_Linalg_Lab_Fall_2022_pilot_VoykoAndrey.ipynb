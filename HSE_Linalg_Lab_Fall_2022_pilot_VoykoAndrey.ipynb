{
  "cells": [
    {
      "cell_type": "markdown",
      "metadata": {
        "id": "view-in-github",
        "colab_type": "text"
      },
      "source": [
        "<a href=\"https://colab.research.google.com/github/avoyko/Linear-Algebra-Research-Work/blob/main/HSE_Linalg_Lab_Fall_2022_pilot_VoykoAndrey.ipynb\" target=\"_parent\"><img src=\"https://colab.research.google.com/assets/colab-badge.svg\" alt=\"Open In Colab\"/></a>"
      ]
    },
    {
      "cell_type": "markdown",
      "metadata": {
        "id": "jH-vyEYcmoWh"
      },
      "source": [
        "# Линейная алгебра. Лабораторная работа 1, зима 2022, пилотный поток"
      ]
    },
    {
      "cell_type": "markdown",
      "metadata": {
        "id": "lOqFQfApmoWj"
      },
      "source": [
        "В этой лабораторной работе вы познакомитесь со средой Jupyter Notebook и библиотеками numpy и scipy."
      ]
    },
    {
      "cell_type": "markdown",
      "metadata": {
        "id": "KneVkyb3moWk"
      },
      "source": [
        "## Часть 1. Библиотеки"
      ]
    },
    {
      "cell_type": "markdown",
      "metadata": {
        "id": "cpc-Rm_EmoWk"
      },
      "source": [
        "В этой лабораторной работе вам понадобятся три библиотеки:\n",
        "\n",
        "- `numpy` - основная библиотека для работы с матрицами;\n",
        "- `scipy`, а точнее модуль `scipy.linalg`, содержащий множество функций линейной алгебры;\n",
        "- `matplotlib` - графическая библиотека\n",
        "\n",
        "Подключить их можно следующим образом:"
      ]
    },
    {
      "cell_type": "code",
      "execution_count": null,
      "metadata": {
        "id": "S0KxDCtFmoWk"
      },
      "outputs": [],
      "source": [
        "# Запустите этот код\n",
        "\n",
        "\n",
        "import scipy.linalg as sla\n",
        "import numpy as np\n",
        "import matplotlib.pyplot as plt\n",
        "from numpy.linalg import matrix_power\n",
        "%matplotlib inline"
      ]
    },
    {
      "cell_type": "markdown",
      "metadata": {
        "id": "ksgoGjHpmoWl"
      },
      "source": [
        "Теперь вы можете позвать, скажем, функцию `scipy.linalg.det()` с помощью кода `sla.det()`, а функцию `numpy.exp()` - с помощью кода `np.exp()`."
      ]
    },
    {
      "cell_type": "markdown",
      "metadata": {
        "id": "oP2rqYiMmoWm"
      },
      "source": [
        "**Основные объекты и операции линейной алгебры в NumPy и SciPy:**"
      ]
    },
    {
      "cell_type": "markdown",
      "metadata": {
        "id": "UcpSkip7moWm"
      },
      "source": [
        "Основной объект, с которым вам придётся работать и в этой, и в следующих лабораторных &mdash; это, безусловно, матрицы. В библиотеке `numpy` они представлены классом `numpy.ndarray`. Матрицу можно создать из двумерного (а на самом деле и не только двумерного) массива следующим образом:"
      ]
    },
    {
      "cell_type": "code",
      "execution_count": null,
      "metadata": {
        "colab": {
          "base_uri": "https://localhost:8080/"
        },
        "id": "7IIG40ZnmoWm",
        "outputId": "ae755fdc-9c21-4ea6-fdd6-783ba91a94af"
      },
      "outputs": [
        {
          "name": "stdout",
          "output_type": "stream",
          "text": [
            "[[1 2 3]\n",
            " [4 5 6]]\n",
            "(2, 3)\n"
          ]
        }
      ],
      "source": [
        "# Запустите этот код\n",
        "A = np.array([[1, 2, 3], [4, 5, 6]])\n",
        "\n",
        "print(A)\n",
        "print(A.shape) # пара (число строк, число столбцов)"
      ]
    },
    {
      "cell_type": "markdown",
      "metadata": {
        "id": "XYg5CSg7moWm"
      },
      "source": [
        "Обратите внимание, что матрица заполняется *по строкам*.\n",
        "\n",
        "Есть и много других конструкторов матриц. Например, единичная матрица размера $n\\times n$ создаётся с помощью функции `numpy.eye(n)`. Со всем многообразием конструкторов можно ознакомиться [на этой странице](https://docs.scipy.org/doc/numpy-1.10.1/reference/routines.array-creation.html)."
      ]
    },
    {
      "cell_type": "markdown",
      "metadata": {
        "id": "j22IneVUmoWn"
      },
      "source": [
        "Зачастую бывает нужно получить доступ к подматрицам данной матрицы, и numpy предоставляет множество удобных средств, как это сделать (называется slicing):\n",
        "- элемент с номером `(i,j)`: `A[i,j]`\n",
        "- i-я строка матрицы: `A[i,:]`\n",
        "- j-й столбец матрицы: `A[:,j]`\n",
        "\n",
        "**Внимание!** Оба варианта, и `A[i,:]`, и `A[:,j]` дают не строку или столбец, а одномерный вектор. Если вы хотите получить вектор-строку или вектор-столбец соответственно, используйте вот такой синтаксис: `A[i:i+1,:]`, и `A[:,j:j+1]`\n",
        "- строки с нулевой по i-ю: `A[:i+1,:]`\n",
        "- столбцы с j-го по последний: `A[:,j:]`\n",
        "- строки с i-й по k-ю: `A[i:k,:]`\n",
        "\n",
        "В некоторых случаях нужно получить доступ к (прямоугольной) подматрице, элементы которой находятся на пересечении строк из списка `rows` и столбцов `columns`. В этом случае `A[rows, columns]` даст не то, что вы ожидаете (можете попробовать это сделать сами и увидеть, что получится; только возьмите `rows` и `columns` одного размера). Справиться с этой задачей позволяет код `A[np.ix_(rows, columns)]`."
      ]
    },
    {
      "cell_type": "markdown",
      "metadata": {
        "id": "Sd-8neHLmoWn"
      },
      "source": [
        "*Умножение матриц* производится с помощью оператора `np.dot()`. Есть два варианта написания: `A.dot(B)` и `np.dot(A, B)`.\n",
        "\n",
        "Обычные знаки арифметических действий (`+`, `-`, `*`) зарезервированы для поэлементных операций. Например, `A * B` &mdash; это матрица, элементами которой являются произведения $A_{ij}B_{ij}$. Помимо этих есть и множество других поэлементных операций. Например, `numpy.exp(A)` &mdash; это матрица, элементами которой являются экспоненты элементов матрицы `A`."
      ]
    },
    {
      "cell_type": "markdown",
      "metadata": {
        "id": "iptHjVHZmoWn"
      },
      "source": [
        "Чтобы получить матрицу, *транспонированную* к матрице `A`, напишите просто `A.T`. "
      ]
    },
    {
      "cell_type": "code",
      "execution_count": null,
      "metadata": {
        "colab": {
          "base_uri": "https://localhost:8080/"
        },
        "id": "--zTDZ6lpqiA",
        "outputId": "d16dc44e-301e-4782-8c03-90c5e28d6bf4"
      },
      "outputs": [
        {
          "data": {
            "text/plain": [
              "array([[1, 4],\n",
              "       [2, 5],\n",
              "       [3, 6]])"
            ]
          },
          "execution_count": 10,
          "metadata": {},
          "output_type": "execute_result"
        }
      ],
      "source": [
        "A.T"
      ]
    },
    {
      "cell_type": "markdown",
      "metadata": {
        "id": "Cu5otTkkmoWn"
      },
      "source": [
        "В некоторых случаях бывает нужно создавать *случайные матрицы*: например, при проведении экспериментов или для инициализации итеративных методов. Средства для этого предоставляет пакет [numpy.random](https://docs.scipy.org/doc/numpy/reference/routines.random.html). Так, `np.random.rand(m,n)` &mdash; это матрица $m\\times n$, элементы которой независимо выбраны из равномерного распределения на интервале `[0;1)`."
      ]
    },
    {
      "cell_type": "markdown",
      "metadata": {
        "id": "bTG79RX5moWn"
      },
      "source": [
        "Для *решения систем линейных уравнений* в пакете `scipy.linalg` есть множество методов, рассмотрение которых выходит за пределы курса линейной алгебры. Мы вам пока предлагаем пользоваться функцией `scipy.linalg.solve`, основанной на методе Гаусса. Отметим, что `scipy.linalg.solve(A, B)` выдаёт решение уравнения $AX = B$ (или ошибку), где $B$ может быть как вектором, так и матрицей.\n",
        "\n",
        "Найти обратную матрицу для матрицы $A$ можно с помощью функции `sla.inv(A)`."
      ]
    },
    {
      "cell_type": "markdown",
      "metadata": {
        "id": "2Y3IIdxZmoWn"
      },
      "source": [
        "**Копирование сложных объектов в Python**"
      ]
    },
    {
      "cell_type": "markdown",
      "metadata": {
        "id": "_vk6YxT1moWn"
      },
      "source": [
        "Когда вы делаете присваивание каких-то сложных объектов, как правило оно происходит по ссылке. Например, код\n",
        "```\n",
        "B = A\n",
        "B[0,0] = 10\n",
        "```\n",
        "приведёт к изменению матрицы `A`.\n",
        "\n",
        "Не попадайтесь в эту ловушку! Если вы хотите работать с копией как с независимой матрицей, используйте метод `copy()`:\n",
        "```\n",
        "B = A.copy()\n",
        "```"
      ]
    },
    {
      "cell_type": "markdown",
      "metadata": {
        "id": "SI434wmfmoWo"
      },
      "source": [
        "**Где искать помощь**"
      ]
    },
    {
      "cell_type": "markdown",
      "metadata": {
        "id": "vHJJV_jsmoWo"
      },
      "source": [
        "Библиотеки `numpy` и `scipy` снабжены прекрасной документацией. Если у вас возникают вопросы о том, как работает та или иная функция (или даже как называется функция, выполняющая то, что вам нужно), вы почти всегда можете найти там ответы.\n",
        "\n",
        "[Ссылка на документацию пакета scipy.linalg](https://docs.scipy.org/doc/scipy-0.18.1/reference/linalg.html)"
      ]
    },
    {
      "cell_type": "markdown",
      "metadata": {
        "id": "m8ww2rdjmoWo"
      },
      "source": [
        "**И всё-таки задание**"
      ]
    },
    {
      "cell_type": "markdown",
      "metadata": {
        "id": "2k8sRAdXmoWo"
      },
      "source": [
        "В качестве первого задания мы попросим вас отыскать соответствующие функции в библиотеке и сделать следующее:\n",
        "\n",
        "- создайте нулевую матрицу $Z$ размера $3\\times4$;\n",
        "\n",
        "- создайте диагональную матрицу $5\\times5$ с диагональными элементами 1, 2, 3, 4 и 5;\n",
        "\n",
        "- найдите её след (не силою мысли, а с помощью библиотечных функций, конечно);\n",
        "\n",
        "- найдите обратную к ней матрицу;\n",
        "\n",
        "- сгенерируйте случайную матрицу $X$ размера $4\\times5$;\n",
        "\n",
        "- найдите определитель подматрицы матрицы $X$, расположенной на пересечении 2 и 3 строки и 1 и 2 столбца; считаем, что строки и столбцы нумеруются с единицы (используйте slicing!). Такой определитель называется **минором** матрицы $X$;\n",
        "\n",
        "- найдите произведение $X^TX$.\n",
        "\n",
        "Пожалуйста, каждый пункт делайте в новом блоке и не забывайте распечатывать результаты."
      ]
    },
    {
      "cell_type": "markdown",
      "metadata": {
        "id": "9PVcWpfbmoWo"
      },
      "source": [
        "А сейчас мы в качестве примера создадим единичную матрицу:"
      ]
    },
    {
      "cell_type": "code",
      "execution_count": null,
      "metadata": {
        "id": "tZNaa_G-moWo",
        "outputId": "6340474c-29a6-415d-a567-a85f26e94372"
      },
      "outputs": [
        {
          "data": {
            "text/plain": [
              "array([[1., 0., 0.],\n",
              "       [0., 1., 0.],\n",
              "       [0., 0., 1.]])"
            ]
          },
          "execution_count": 2,
          "metadata": {},
          "output_type": "execute_result"
        }
      ],
      "source": [
        "np.eye(3)"
      ]
    },
    {
      "cell_type": "markdown",
      "metadata": {
        "id": "24SJDClbrQyI"
      },
      "source": [
        "**Нулевая матрица  Z  размера  3×4**"
      ]
    },
    {
      "cell_type": "code",
      "execution_count": null,
      "metadata": {
        "colab": {
          "base_uri": "https://localhost:8080/"
        },
        "id": "WI_6RaU-moWp",
        "outputId": "e7127d5b-f968-48d0-811f-fab0500c6463"
      },
      "outputs": [
        {
          "data": {
            "text/plain": [
              "array([[0, 0, 0, 0],\n",
              "       [0, 0, 0, 0],\n",
              "       [0, 0, 0, 0]])"
            ]
          },
          "execution_count": 13,
          "metadata": {},
          "output_type": "execute_result"
        }
      ],
      "source": [
        "np.zeros((3,4), dtype = int)"
      ]
    },
    {
      "cell_type": "markdown",
      "metadata": {
        "id": "hfRcxGFKsS6k"
      },
      "source": [
        "**Диагональная матрица 5×5**"
      ]
    },
    {
      "cell_type": "code",
      "execution_count": null,
      "metadata": {
        "colab": {
          "base_uri": "https://localhost:8080/"
        },
        "id": "K7p4IJSymoWp",
        "outputId": "d537a6e4-2aea-4d2a-ec66-431a31758eeb"
      },
      "outputs": [
        {
          "output_type": "execute_result",
          "data": {
            "text/plain": [
              "array([[1, 0, 0, 0, 0],\n",
              "       [0, 2, 0, 0, 0],\n",
              "       [0, 0, 3, 0, 0],\n",
              "       [0, 0, 0, 4, 0],\n",
              "       [0, 0, 0, 0, 5]])"
            ]
          },
          "metadata": {},
          "execution_count": 74
        }
      ],
      "source": [
        "lst = [(i) for i in range(1,6)]\n",
        "np.diag(lst)"
      ]
    },
    {
      "cell_type": "markdown",
      "metadata": {
        "id": "qZtwZQdKttYi"
      },
      "source": [
        "**След**"
      ]
    },
    {
      "cell_type": "code",
      "execution_count": null,
      "metadata": {
        "colab": {
          "base_uri": "https://localhost:8080/"
        },
        "id": "AaAKQOOIrMKs",
        "outputId": "c42d612b-86c3-48e7-f613-b632d54ea5c8"
      },
      "outputs": [
        {
          "output_type": "execute_result",
          "data": {
            "text/plain": [
              "15"
            ]
          },
          "metadata": {},
          "execution_count": 75
        }
      ],
      "source": [
        "a = np.diag(lst)\n",
        "np.trace(a)\n"
      ]
    },
    {
      "cell_type": "markdown",
      "metadata": {
        "id": "t4Dd_jPpuHP_"
      },
      "source": [
        "**Обратная к ней матрица**"
      ]
    },
    {
      "cell_type": "code",
      "execution_count": null,
      "metadata": {
        "colab": {
          "base_uri": "https://localhost:8080/"
        },
        "id": "ill2vJhQrL76",
        "outputId": "1135212c-1ee0-46b5-b20e-b8c16d6f05cc"
      },
      "outputs": [
        {
          "output_type": "execute_result",
          "data": {
            "text/plain": [
              "array([[ 1.  ,  0.  , -0.  ,  0.  , -0.  ],\n",
              "       [ 0.  ,  0.5 , -0.  ,  0.  , -0.  ],\n",
              "       [ 0.  ,  0.  ,  0.33,  0.  , -0.  ],\n",
              "       [ 0.  ,  0.  ,  0.  ,  0.25, -0.  ],\n",
              "       [ 0.  ,  0.  ,  0.  ,  0.  ,  0.2 ]])"
            ]
          },
          "metadata": {},
          "execution_count": 76
        }
      ],
      "source": [
        "sla.inv(a).round(2)"
      ]
    },
    {
      "cell_type": "markdown",
      "metadata": {
        "id": "j0gb7c0IwR52"
      },
      "source": [
        "**Случайная матрица**"
      ]
    },
    {
      "cell_type": "code",
      "execution_count": null,
      "metadata": {
        "colab": {
          "base_uri": "https://localhost:8080/"
        },
        "id": "Wj159c4irLsF",
        "outputId": "0d15ca43-f761-4375-b750-da6ae44bd3dd"
      },
      "outputs": [
        {
          "output_type": "execute_result",
          "data": {
            "text/plain": [
              "array([[0.96825809, 0.47832543, 0.11711744, 0.75695053, 0.91766004],\n",
              "       [0.35252518, 0.23375048, 0.91930111, 0.0520685 , 0.05170058],\n",
              "       [0.21551797, 0.35172691, 0.80946089, 0.90031882, 0.19830472],\n",
              "       [0.4354557 , 0.81504533, 0.98529686, 0.38505162, 0.3607196 ]])"
            ]
          },
          "metadata": {},
          "execution_count": 77
        }
      ],
      "source": [
        "x = np.random.rand(4,5)\n",
        "x"
      ]
    },
    {
      "cell_type": "markdown",
      "metadata": {
        "id": "1nSdj8lXyas7"
      },
      "source": [
        "**Определитель подматрицы матрицы  X**"
      ]
    },
    {
      "cell_type": "code",
      "execution_count": null,
      "metadata": {
        "colab": {
          "base_uri": "https://localhost:8080/"
        },
        "id": "uBLRLp1myipx",
        "outputId": "d43a6d58-df6b-4d62-93d4-4a5b800caf60"
      },
      "outputs": [
        {
          "output_type": "execute_result",
          "data": {
            "text/plain": [
              "0.07361516210278703"
            ]
          },
          "metadata": {},
          "execution_count": 78
        }
      ],
      "source": [
        "from scipy import linalg\n",
        "rows = [1,2]\n",
        "columns = [0,1]\n",
        "b = x[np.ix_(rows, columns)]\n",
        "linalg.det(b)\n"
      ]
    },
    {
      "cell_type": "markdown",
      "metadata": {
        "id": "uVkOHlp-01hc"
      },
      "source": [
        "**Произведение транспонированной матрицы на данную**"
      ]
    },
    {
      "cell_type": "code",
      "execution_count": null,
      "metadata": {
        "colab": {
          "base_uri": "https://localhost:8080/"
        },
        "id": "cVruWmT91I9c",
        "outputId": "1d2d2d02-e5ff-4fa7-a37c-514b7b38c1a9"
      },
      "outputs": [
        {
          "output_type": "execute_result",
          "data": {
            "text/plain": [
              "array([[1.29786739, 0.976265  , 1.0409832 , 1.11298674, 1.10657314],\n",
              "       [0.976265  , 1.07144521, 1.3586781 , 1.0047406 , 0.8147771 ],\n",
              "       [1.0409832 , 1.3586781 , 2.48486786, 1.24468177, 0.6709382 ],\n",
              "       [1.11298674, 1.0047406 , 1.24468177, 1.53452396, 1.01474836],\n",
              "       [1.10657314, 0.8147771 , 0.6709382 , 1.01474836, 1.01421629]])"
            ]
          },
          "metadata": {},
          "execution_count": 79
        }
      ],
      "source": [
        "tr = x.T\n",
        "tr.dot(x)"
      ]
    },
    {
      "cell_type": "markdown",
      "metadata": {
        "id": "kdwcWFbemoWq"
      },
      "source": [
        "## Часть 2. Время\n",
        "\n",
        "Питон мотивирует пользоваться библиотечными функциями, когда они доступны, а не писать собственные. Библиотечные функции основаны на современных алгоритмах, обычно пишутся на более эффективных языках, таких как C++ или Fortran, а кроме того, оптимизированы для работы на многопроцессорных устройствах, так что обогнать эти решения просто так вы не сможете.\n",
        "\n",
        "Мы предлагаем вам убедиться в этом самим. Напишите функцию `my_det`, которая вычисляла бы определитель матрицы с помощью элементарных преобразований над строками. Функция должна выкидывать `ValueError` в случаях, если матрица не является квадратной."
      ]
    },
    {
      "cell_type": "code",
      "execution_count": null,
      "metadata": {
        "collapsed": true,
        "id": "7NgPQ2MtmoWq"
      },
      "outputs": [],
      "source": [
        "\n",
        "\n",
        "def my_det(X):\n",
        "    rows = len(X)\n",
        "    cols = len(X[0])\n",
        "    delta = 10**(-20)\n",
        "    X = list(X)\n",
        "    detr = float(1)\n",
        "    for i in range(len(X)):\n",
        "        X[i] = list(X[i])\n",
        "    \n",
        "    if rows==cols:\n",
        "        for i in range(rows):\n",
        "            cnt = i\n",
        "            for j in range(i+1, rows):\n",
        "                if abs(X[j][i])>abs(X[cnt][i]):\n",
        "                    cnt = j\n",
        "                    \n",
        "            if abs(X[cnt][i])<delta:\n",
        "                return 0\n",
        "            \n",
        "            tmp = X[i]\n",
        "            X[i] = X[cnt]\n",
        "            X[cnt] = tmp\n",
        "            \n",
        "            \n",
        "            \n",
        "            if i==cnt:\n",
        "                pass\n",
        "            else:\n",
        "                detr*=-1\n",
        "            detr*=X[i][i]\n",
        "            \n",
        "            for j in range(i+1, cols):\n",
        "                X[i][j]/=X[i][i]\n",
        "                \n",
        "            for j in range(0,cols):\n",
        "                if  abs(X[j][i])>delta and (j!=i):\n",
        "                    for m in range(i+1, rows):\n",
        "                        X[j][m]-=X[j][i]*X[i][m]\n",
        "        \n",
        "        return detr\n",
        "    else:\n",
        "        raise ValueError\n",
        "# Запустите этот блок кода\n",
        "\n",
        "\n",
        "                \n",
        "        \n",
        "        \n",
        "        \n",
        "    \n",
        "        "
      ]
    },
    {
      "cell_type": "markdown",
      "metadata": {
        "id": "YO72m_XsmoWq"
      },
      "source": [
        "Простая проверка:"
      ]
    },
    {
      "cell_type": "code",
      "execution_count": null,
      "metadata": {
        "colab": {
          "base_uri": "https://localhost:8080/"
        },
        "collapsed": true,
        "id": "3TUlLYOLmoWq",
        "outputId": "e780fffa-1985-4643-b1ce-ed52fac13edc"
      },
      "outputs": [
        {
          "output_type": "stream",
          "name": "stdout",
          "text": [
            "[[0 0 1]\n",
            " [0 1 0]\n",
            " [1 0 0]]\n",
            "-1.0\n"
          ]
        }
      ],
      "source": [
        "# Запустите этот блок кода\n",
        "X = np.array([[0,0,1], [0,1,0], [1,0,0]])\n",
        "print(X)\n",
        "print(my_det(X))"
      ]
    },
    {
      "cell_type": "markdown",
      "metadata": {
        "id": "N1vKEClLmoWq"
      },
      "source": [
        "На случай, если нам просто повезло с этой матрицей, имеет смысл написать чуть более хитрые тесты. Мы сгенерируем несколько случайных матриц $8\\times8$ с помощью функции `numpy.random.rand` и сравним ответ, выдаваемый нашей функцией, с настоящим определителем (результатом работы библиотечной функции `scipy.linalg.det`):"
      ]
    },
    {
      "cell_type": "code",
      "execution_count": null,
      "metadata": {
        "collapsed": true,
        "id": "EkyYxvUSmoWq"
      },
      "outputs": [],
      "source": [
        "# Запустите этот блок кода\n",
        "for _ in range(10):\n",
        "    X = np.random.rand(8,8)\n",
        "    if np.abs(my_det(X) - sla.det(X)) > 1e-6:\n",
        "        print('FAILED')\n",
        "        "
      ]
    },
    {
      "cell_type": "markdown",
      "metadata": {
        "id": "ezkmq4MRmoWr"
      },
      "source": [
        "Если вы ни разу не получили `FAILED`, то ваша функция работает правильно. "
      ]
    },
    {
      "cell_type": "markdown",
      "metadata": {
        "id": "7DYtTKT7moWr"
      },
      "source": [
        "Теперь давайте сравним скорость работы вашей функции и библиотечной функции `scipy.linalg.det`. В Питоне есть несколько способов измерения времени; мы воспользуемся декоратором `%timeit`. Будучи написан перед функцией, он запускает её некоторое количество раз, выбирает три случайных запуска и возвращает длительность самого быстрого из них. Модификатор `-o` между декоратором и функцией позволяет сохранять результаты работы декоратора в переменную.\n",
        "\n",
        "Приготовьтесь, что следующий блок может работать сравнительно долго."
      ]
    },
    {
      "cell_type": "code",
      "execution_count": null,
      "metadata": {
        "colab": {
          "base_uri": "https://localhost:8080/",
          "height": 451
        },
        "collapsed": true,
        "id": "PJpkg2BHmoWr",
        "outputId": "80ee59a4-87c2-44a2-f1be-f4df8b9d7ad1"
      },
      "outputs": [
        {
          "output_type": "stream",
          "name": "stdout",
          "text": [
            "18.7 µs ± 5.41 µs per loop (mean ± std. dev. of 7 runs, 10000 loops each)\n",
            "243 µs ± 11.6 µs per loop (mean ± std. dev. of 7 runs, 1000 loops each)\n",
            "215 µs ± 22.4 µs per loop (mean ± std. dev. of 7 runs, 1000 loops each)\n",
            "166 ms ± 13.5 ms per loop (mean ± std. dev. of 7 runs, 1 loop each)\n",
            "38.1 ms ± 2.46 ms per loop (mean ± std. dev. of 7 runs, 10 loops each)\n"
          ]
        },
        {
          "output_type": "stream",
          "name": "stderr",
          "text": [
            "<ipython-input-80-0b31051900af>:30: RuntimeWarning: overflow encountered in double_scalars\n",
            "  detr*=X[i][i]\n"
          ]
        },
        {
          "output_type": "stream",
          "name": "stdout",
          "text": [
            "3min 11s ± 615 ms per loop (mean ± std. dev. of 7 runs, 1 loop each)\n"
          ]
        },
        {
          "output_type": "execute_result",
          "data": {
            "text/plain": [
              "<matplotlib.legend.Legend at 0x7f37ffd7c4f0>"
            ]
          },
          "metadata": {},
          "execution_count": 85
        },
        {
          "output_type": "display_data",
          "data": {
            "text/plain": [
              "<Figure size 432x288 with 1 Axes>"
            ],
            "image/png": "[encoded data removed]"
          },
          "metadata": {
            "needs_background": "light"
          }
        }
      ],
      "source": [
        "# Запустите этот блок кода\n",
        "lib_times = []\n",
        "my_times = []\n",
        "dimensions = [10, 100, 1000]\n",
        "for dim in dimensions:\n",
        "    A = np.random.rand(dim, dim)\n",
        "    res_lib = %timeit -o sla.det(A)\n",
        "    lib_times.append(res_lib.best)\n",
        "    res_my = %timeit -o my_det(A)\n",
        "    my_times.append(res_my.best)    \n",
        "\n",
        "plt.plot(dimensions, lib_times, color='blue', label='Library function')\n",
        "plt.plot(dimensions, my_times, color='red', label='My function')\n",
        "plt.title('My function vs library function, log y scale')\n",
        "plt.ylabel('Time')\n",
        "plt.xlabel('Matrix dimension')\n",
        "plt.legend()"
      ]
    },
    {
      "cell_type": "markdown",
      "metadata": {
        "id": "NFIB6OHAmoWr"
      },
      "source": [
        "У вас должны были получиться графики, показывающие, как растёт с ростом размерности матрицы время вычисления определителя. Поскольку они вышли не больно-то красивыми, мы нарисуем их в *логарифмическом масштабе* по оси у:"
      ]
    },
    {
      "cell_type": "code",
      "execution_count": null,
      "metadata": {
        "colab": {
          "base_uri": "https://localhost:8080/",
          "height": 312
        },
        "collapsed": true,
        "id": "GkgijRiWmoWr",
        "outputId": "70704820-c7d6-4a49-914d-7b6314633235"
      },
      "outputs": [
        {
          "output_type": "execute_result",
          "data": {
            "text/plain": [
              "<matplotlib.legend.Legend at 0x7f37ff13eac0>"
            ]
          },
          "metadata": {},
          "execution_count": 86
        },
        {
          "output_type": "display_data",
          "data": {
            "text/plain": [
              "<Figure size 432x288 with 1 Axes>"
            ],
            "image/png": "[encoded data removed]"
          },
          "metadata": {
            "needs_background": "light"
          }
        }
      ],
      "source": [
        "# Запустите этот блок кода\n",
        "plt.semilogy(dimensions, lib_times, color='blue', label='Library function')\n",
        "plt.semilogy(dimensions, my_times, color='red', label='My function')\n",
        "plt.title('My function vs library function, log y scale')\n",
        "plt.ylabel('Time')\n",
        "plt.xlabel('Matrix dimension')\n",
        "plt.legend()"
      ]
    },
    {
      "cell_type": "markdown",
      "metadata": {
        "id": "vH8mtr3JmoWr"
      },
      "source": [
        "Вы можете убедиться, что библиотечная функция работает *гораздо* быстрее."
      ]
    },
    {
      "cell_type": "markdown",
      "metadata": {
        "id": "LtVBa1x_moWr"
      },
      "source": [
        "## Часть 3. Точность\n",
        "\n",
        "Наверняка вы уже что-то знаете про floating point arithmetics и связанные с этим трудности и понимаете, что на компьютере вычисления с вещественными числами производятся лишь с ограниченной точностью. "
      ]
    },
    {
      "cell_type": "markdown",
      "metadata": {
        "id": "5yFj7uCKmoWs"
      },
      "source": [
        "В качестве первого примера, показывающего различие между длинной арифметикой целых чисел и floating point arithmetics, предлагаем вам перемножить две пары матриц:\n",
        "\n",
        "$$\n",
        "\\begin{pmatrix}\n",
        "1 & 0\\\\\n",
        "10^{20} & 1\n",
        "\\end{pmatrix}\n",
        "\\cdot\n",
        "\\begin{pmatrix}\n",
        "10^{-20} & 1\\\\\n",
        "0 & 1 - 10^{20}\n",
        "\\end{pmatrix}\n",
        "$$\n",
        "и\n",
        "$$\n",
        "\\begin{pmatrix}\n",
        "1. & 0.\\\\\n",
        "10.^{20} & 1.\n",
        "\\end{pmatrix}\n",
        "\\cdot\n",
        "\\begin{pmatrix}\n",
        "10.^{-20} & 1.\\\\\n",
        "0. & 1. - 10.^{20}\n",
        "\\end{pmatrix}\n",
        "$$\n",
        "Во втором случае мы специально указали Питону (поставив везде десятичные точки), что хотим работать не с целыми числами, а с числами с плавающей точкой. Посмотрим, получатся ли одинаковые ответы:"
      ]
    },
    {
      "cell_type": "code",
      "execution_count": null,
      "metadata": {
        "colab": {
          "base_uri": "https://localhost:8080/"
        },
        "collapsed": true,
        "id": "_zUpUvbGmoWs",
        "outputId": "5c1affe5-c561-489f-f89f-a6128b582a02"
      },
      "outputs": [
        {
          "name": "stdout",
          "output_type": "stream",
          "text": [
            "[[1e-20 1]\n",
            " [1.0 1]]\n"
          ]
        }
      ],
      "source": [
        "A = np.array([[1, 0], [10**20, 1]])\n",
        "B = np.array([[10**(-20),1],[0, 1-10**20]])\n",
        "print(A.dot(B))\n"
      ]
    },
    {
      "cell_type": "code",
      "execution_count": null,
      "metadata": {
        "colab": {
          "base_uri": "https://localhost:8080/"
        },
        "id": "y3MBIVuXCt0z",
        "outputId": "3862428b-ec73-4554-eedb-6a41f16d09ea"
      },
      "outputs": [
        {
          "name": "stdout",
          "output_type": "stream",
          "text": [
            "[[1.e-20 1.e+00]\n",
            " [1.e+00 0.e+00]]\n"
          ]
        }
      ],
      "source": [
        "A = np.array([[1., 0.], [10**20., 1.]])\n",
        "B = np.array([[(10.)**(-20),1.],[0., 1.-(10.)**20]])\n",
        "print(A.dot(B))"
      ]
    },
    {
      "cell_type": "markdown",
      "metadata": {
        "id": "G7ht2QTUmoWs"
      },
      "source": [
        "И какой из них правильный?\n",
        "\n",
        "---\n",
        "**Первый верен**"
      ]
    },
    {
      "cell_type": "markdown",
      "metadata": {
        "id": "C3IKhXXMmoWs"
      },
      "source": [
        "Впрочем, и с целыми числами тоже не всегда всё хорошо. Напишите функцию, генерирующую *матрицу Паскаля* заданной размерности $n$, то есть матрицу $P$, в которой $P_{ij} = C_{i+j}^i$. В этом задании нельзя пользоваться библиотечной функцией `scipy.linalg.pascal` или её аналогами из других библиотек. Обратите внимание, что использование факториалов крайне нежелательно, так как быстро приведёт к переполнению.\n",
        "\n",
        "В этом задании вы можете использовать цикл ``for``."
      ]
    },
    {
      "cell_type": "code",
      "execution_count": null,
      "metadata": {
        "collapsed": true,
        "id": "PxD1ahvPmoWs"
      },
      "outputs": [],
      "source": [
        "import numpy as np\n",
        "import scipy.linalg as sla\n",
        "from functools import lru_cache\n",
        "\n",
        "def my_pascal(dim):\n",
        "   \n",
        "    P = np.zeros((dim, dim))\n",
        "    \n",
        "    for i in range(dim):\n",
        "        for j in range(dim):\n",
        "            if i==0 or j==0:\n",
        "                P[i][j]=1\n",
        "            else:\n",
        "                P[i][j] = P[i][j-1]+P[i-1][j]\n",
        "    \n",
        "    \n",
        "    # Your code here\n",
        "    \n",
        "    return P\n",
        "\n"
      ]
    },
    {
      "cell_type": "markdown",
      "metadata": {
        "id": "3P0Kz6MomoWs"
      },
      "source": [
        "Чему равен её определитель? Обязательно объясните свой ответ.\n",
        "\n",
        "----\n",
        "Определитель матрицы Паскаля равен 1. Поясню этот замечательный факт.\n",
        "Давайте первую строку вычтем из оставшихся ${n-1}$ строк и заметим, что получили подматрицу размера ${(n-1)}\\times{(n-1)}$, в которой каждый элемент равен элементу, стоявшему слева от него в исходной матрице. Так произошло в силу того, что каждый элемент матрицы Паскаля $P_{ij}$ равен $C_{i+j}^{i}$ и что для биномиальных коэффициентов выполняется следующее комбинаторное равенство: $C_{n}^{k} = C_{n-1}^{k-1} + C_{n}^{k-1}$. Теперь, после того как мы вычли первую строку из ${n-1}$ cтроки, проделаем такой же процесс со второй (т.е. вычтем ее из ${n-2}$ строк под ней). Проделывая такие операции с каждый строкой, мы получим верхнетреугольную матрицу с единицами на главной диагонали. Так как все преобразования строк были элементарными преобразованиями первого типа, то определитель матрицы не менялся. Следовательно, определитель матрицы просто равен  произведению диагональных элементов, т.е. в нашем случае произведению единиц.\n"
      ]
    },
    {
      "cell_type": "markdown",
      "metadata": {
        "id": "bvz9Wst_moWs"
      },
      "source": [
        "А теперь вычислите определитель матрицы Паскаля $30\\times30$ с помощью библиотечной функции `scipy.linalg.det`:"
      ]
    },
    {
      "cell_type": "code",
      "execution_count": null,
      "metadata": {
        "colab": {
          "base_uri": "https://localhost:8080/"
        },
        "collapsed": true,
        "id": "mz2uAjjEmoWs",
        "outputId": "7913efd6-ea4f-4b0c-e375-db2857c66ba0"
      },
      "outputs": [
        {
          "data": {
            "text/plain": [
              "-3.400444993542751e+51"
            ]
          },
          "execution_count": 43,
          "metadata": {},
          "output_type": "execute_result"
        }
      ],
      "source": [
        "sla.det(my_pascal(30))"
      ]
    },
    {
      "cell_type": "markdown",
      "metadata": {
        "id": "8ZM9w60nmoWs"
      },
      "source": [
        "Разница заметна невооружённым взглядом!"
      ]
    },
    {
      "cell_type": "markdown",
      "metadata": {
        "id": "HjL92lAzmoWt"
      },
      "source": [
        "## Часть 4. Матричные вычисления"
      ]
    },
    {
      "cell_type": "markdown",
      "metadata": {
        "id": "_tKBETFbmoWt"
      },
      "source": [
        "Вы уже видели, что использования циклов (и самописных вычислений в целом) в Питоне лучше по возможности избегать и важно уметь находить способы делать всё библиотечными средствами.\n",
        "\n",
        "В качестве примера рассмотрим две задачи:\n",
        "\n",
        "**1.** Предположим, нужно вычислить суммы элементов в каждой строке матрицы `A`. Ясно, что можно написать простую функцию с двумя циклами, которая это посчитает, но так лучше не делать. Правильный способ такой:\n",
        "```\n",
        "A.sum(axis=1)\n",
        "```\n",
        "Параметр `axis=1` означает, что суммы берутся по строкам. Если вы хотите просуммировать по столбцам, укажите `axis=0`. Если вообще пропустить параметр `axis` (вызвать `A.sum()`), то функция вернёт сумму *всех* элементов матрицы.\n",
        "\n",
        "**2.** Теперь допустим, что нам нужно каждый столбец матрицы `A` умножить на некоторое число. Более точно, пусть у нас есть (одномерный) вектор `w = np.array([w_1,...,w_n])`, и мы должны `i`-й столбец `A` умножить на число `w_i`. Опять же, это можно сделать в пару циклов, но лучше использовать операцию поэлементного умножения:\n",
        "```\n",
        "A * w.reshape((1,n))\n",
        "```\n",
        "Оператор `reshape` нужен для того, чтобы из одномерного вектора сделать вектор-строку.\n",
        "\n",
        "Аналогично, если на числа `w_1,...,w_n` умножаются *строки* матрицы, нужно превратить `w` в вектор-столбец:\n",
        "```\n",
        "A * w.reshape((n,1))\n",
        "```"
      ]
    },
    {
      "cell_type": "markdown",
      "metadata": {
        "id": "cDc9PzhHmoWt"
      },
      "source": [
        "Дальше вам будет предложено попрактиковаться в матричных вычислениях. В следующих трёх заданиях нельзя пользоваться циклами, а также конструкциями `map` и `reduce` и им подобными; вместо этого постарайтесь свести всё к матричным операциям из `numpy` (но, опять же, не `np.vectorize` или чему-то подобному). Чтобы убедиться, что получилось именно то, что нужно, пишите собственные тесты со случайными матрицами."
      ]
    },
    {
      "cell_type": "markdown",
      "metadata": {
        "id": "Q6MLfLDToM8y"
      },
      "source": [
        "Не забудьте написать тесты, которые будут проверять корректность ваших функций."
      ]
    },
    {
      "cell_type": "markdown",
      "metadata": {
        "id": "YT5HrPv_moWt"
      },
      "source": [
        "**Задание 4.1** Напишите функцию `prod_and_sq_sum(A)`, вычисляющую произведение и сумму квадратов диагональных элементов квадратной матрицы `A`."
      ]
    },
    {
      "cell_type": "code",
      "execution_count": null,
      "metadata": {
        "collapsed": true,
        "id": "Ocn0DLI4moWt"
      },
      "outputs": [],
      "source": [
        "#запустите ф-цию, чтобы сработал тест\n",
        "import numpy as np\n",
        "import random\n",
        "eps = 1e-9\n",
        "def prod_and_sq(A):\n",
        "  a = np.diagonal(A)\n",
        "  n = len(a)\n",
        "  prod = a.prod(axis = 0)\n",
        "  x = a*a.reshape((1,n))\n",
        "  summ = x.sum()\n",
        "  return prod, summ\n",
        "\n",
        "       "
      ]
    },
    {
      "cell_type": "markdown",
      "metadata": {
        "id": "mHgf4bNxu6tE"
      },
      "source": [
        "**Тест**"
      ]
    },
    {
      "cell_type": "code",
      "execution_count": null,
      "metadata": {
        "colab": {
          "base_uri": "https://localhost:8080/"
        },
        "id": "3qNMF2x5u6At",
        "outputId": "2f837530-b5f9-46c5-cdc1-16ecf7b90436"
      },
      "outputs": [
        {
          "name": "stdout",
          "output_type": "stream",
          "text": [
            "OK\n",
            "OK\n",
            "OK\n",
            "OK\n",
            "OK\n",
            "OK\n",
            "OK\n",
            "OK\n",
            "OK\n",
            "OK\n"
          ]
        }
      ],
      "source": [
        "for i in range(10):\n",
        "    n = random.randint(2,10)\n",
        "    A = np.random.rand(n,n)\n",
        "    summ = 0\n",
        "    prod = 1\n",
        "    for i in range(n):\n",
        "        elem = A[i][i]\n",
        "        summ+=elem**2\n",
        "        prod*=elem\n",
        "        \n",
        "    res = prod_and_sq(A)\n",
        "    if abs(res[0]-prod)<eps and abs(res[1]-summ)<eps:\n",
        "        print('OK')\n",
        "    else:\n",
        "        print('Failed')"
      ]
    },
    {
      "cell_type": "markdown",
      "metadata": {
        "id": "DxShkE1UmoWt"
      },
      "source": [
        "**Задание 4.2** Для матриц `A` и `B` размера $m\\times n$ обозначим через $a_1,\\ldots,a_n$ и $b_1,\\ldots,b_n$ соответственно их столбцы. Напишите функцию `f(A, B, k)`, вычисляющую\n",
        "\n",
        "$$\\sum_{i=1}^{\\min(k,m)}a_ib_i^T$$"
      ]
    },
    {
      "cell_type": "code",
      "execution_count": null,
      "metadata": {
        "collapsed": true,
        "id": "g1vaeLvkmoWu"
      },
      "outputs": [],
      "source": [
        "#запустите ф-цию, чтобы сработал тест\n",
        "def f(A,B,k):\n",
        "  x = B.shape[0]\n",
        "  y = B.shape[1]\n",
        "  num = min(x,k)\n",
        "  res = np.sum(np.matmul(A.T.reshape(y,x,1), B.T.reshape(y,1,x)).reshape(y,x,x)[:num], axis = 0)\n",
        "  return res\n",
        "\n",
        "\n"
      ]
    },
    {
      "cell_type": "markdown",
      "metadata": {
        "id": "pFz5Zs3Wtx1r"
      },
      "source": [
        "**Тест**"
      ]
    },
    {
      "cell_type": "code",
      "execution_count": null,
      "metadata": {
        "colab": {
          "base_uri": "https://localhost:8080/"
        },
        "id": "a_v7O4rltzk-",
        "outputId": "2631a6d0-fc23-43af-a924-557ddcd5862d"
      },
      "outputs": [
        {
          "name": "stdout",
          "output_type": "stream",
          "text": [
            "OK\n",
            "OK\n",
            "OK\n",
            "OK\n",
            "OK\n",
            "OK\n",
            "OK\n",
            "OK\n",
            "OK\n",
            "OK\n",
            "OK\n",
            "OK\n",
            "OK\n",
            "OK\n",
            "OK\n"
          ]
        }
      ],
      "source": [
        "import random\n",
        "\n",
        "def test(A,B,k):\n",
        "    if y <= k:\n",
        "        return np.dot(A,B.T)\n",
        "    else:\n",
        "        A = A[:,:k]\n",
        "        B = B[:,:k]\n",
        "        return np.dot(A,B.T)\n",
        "\n",
        "global y, x\n",
        "for i in range(15):\n",
        "    y = random.randint(2,10)\n",
        "    x = random.randint(2,10)\n",
        "    k = random.randint(2,10)\n",
        "    A = np.random.rand(x,y)\n",
        "    B = np.random.rand(x,y)\n",
        "    if f(A,B,k).all()==test(A,B,k).all():\n",
        "        print('OK')\n",
        "    else:\n",
        "        print('Failed')"
      ]
    },
    {
      "cell_type": "markdown",
      "metadata": {
        "id": "EUiRcVJdmoWu"
      },
      "source": [
        "**Задание 4.3** Напишите функцию `get_diag(A,B)`, принимающую две квадратных матрицы `A` и `B` одного размера и возвращающую вектор диагональных элементов произведения `AB`, не вычисляя произведение целиком. "
      ]
    },
    {
      "cell_type": "code",
      "execution_count": null,
      "metadata": {
        "collapsed": true,
        "id": "qF7VVHrhmoWu"
      },
      "outputs": [],
      "source": [
        "#запустите ф-цию, чтобы сработал тест\n",
        "def get_diag(A, B):\n",
        "    l = len(A)\n",
        "    b = B.T\n",
        "    return np.matmul(A.reshape(l, 1, l), b.reshape(l, l, 1)).reshape(l)\n",
        "\n",
        "\n",
        "\n"
      ]
    },
    {
      "cell_type": "markdown",
      "metadata": {
        "id": "Boh01SzhvpEa"
      },
      "source": [
        "**Тест**"
      ]
    },
    {
      "cell_type": "code",
      "execution_count": null,
      "metadata": {
        "colab": {
          "base_uri": "https://localhost:8080/"
        },
        "id": "yujRsqRlvsBf",
        "outputId": "04dafa67-3a45-4ced-df6e-fd191d27c859"
      },
      "outputs": [
        {
          "name": "stdout",
          "output_type": "stream",
          "text": [
            "OK\n",
            "OK\n",
            "OK\n",
            "OK\n",
            "OK\n",
            "OK\n",
            "OK\n",
            "OK\n",
            "OK\n",
            "OK\n",
            "OK\n",
            "OK\n",
            "OK\n",
            "OK\n",
            "OK\n"
          ]
        }
      ],
      "source": [
        "import numpy as np\n",
        "import random\n",
        "\n",
        "\n",
        "def test(A,B):\n",
        "    C = A.dot(B)\n",
        "    lst = []\n",
        "    for i in range(len(A)):\n",
        "        lst.append(C[i][i])\n",
        "    return np.array(lst)\n",
        "\n",
        "\n",
        "for i in range(15):\n",
        "    x = random.randint(2,10)\n",
        "    A = np.random.rand(x,x)\n",
        "    B = np.random.rand(x,x)\n",
        "    if get_diag(A,B).all()==test(A,B).all():\n",
        "        print('OK')\n",
        "    else:\n",
        "        print('Failed')\n"
      ]
    },
    {
      "cell_type": "markdown",
      "metadata": {
        "id": "q-cSKJHvmoWu"
      },
      "source": [
        "## Часть 5. Комплексные числа и геометрия"
      ]
    },
    {
      "cell_type": "markdown",
      "metadata": {
        "id": "Cs8a9q49moWu"
      },
      "source": [
        "У вас уже была возможность убедиться, что многие операции над комплексными числами имеют наглядную геометрическую интерпретацию. В этом задании вам будет предложено этим воспользоваться.\n",
        "\n",
        "В Python число $i$ (мнимая единица) обозначено через `1j`. Так, число $0,5 + 1,2i$ будет иметь вид `0.5 + 1.2 * 1j`.\n",
        "\n",
        "**Внимание!** При выполнении задания вы должны работать с точками плоскости как с комплексными числами. Решения, в которых в какой-либо момент работа происходит не с комплексным числом как таковым, а с парой вещественных, будут оцениваться нулём баллов. Любые преобразования должны быть реализованы с помощью операций над комплексными числами: сложения, вычитания, умножения, деления, возведения в степень и комплексного сопряжения.\n",
        "\n",
        "**Задание 5.1** Напишите функцию `shrink_rotate`, которая принимает на вход:\n",
        "- заданную в виде комплексного числа точку $X$, которую мы подвергаем преобразованию,\n",
        "- заданную в виде комплексного числа точку $A$, \n",
        "- действительный коэффициент `coef`,\n",
        "- угол `alpha`, заданный в радианах\n",
        "\n",
        "и осуществляет следующее преобразование: мы берём вектор $AX$, умножаем его на `coef`, поворачиваем вокруг точки $A$ на угол `alpha` против часовой стрелки, после чего возвращаем конец полученного вектора. Ниже (левая картинка) мы приводим иллюстрацию действия этого преобразования:\n",
        "\n",
        "<img src=\"ShrinkRotate.png\">\n",
        "\n",
        "Ваша функция должна работать для любой точки корректно.\n",
        "\n",
        "**Задание 5.2** Напишите функцию `shrink_rotate_conj`, которая сначала делает то же самое, что и `shrink_rotate`, а после этого отражает вектор $AY$ относительно горизонтальной прямой, проходящей через точку $A$, и возвращает точку $Y'$ (см. правую часть рисунка). Ваша функция должна работать для любой точки корректно.\n",
        "\n",
        "**Задание 5.3** Напишите функцию `geometric_inverse`, которая принимает на вход:\n",
        "- заданную в виде комплексного числа точку $X$, которую мы подвергаем преобразованию,\n",
        "- заданную в виде комплексного числа точку $A$, \n",
        "- положительное действительное число $r$\n",
        "\n",
        "и осуществляет инверсию точки $X$ относительно окружности с центром $A$ радиуса $r$. [Определение инверсии вы можете посмотреть здесь](https://ru.wikipedia.org/wiki/%D0%98%D0%BD%D0%B2%D0%B5%D1%80%D1%81%D0%B8%D1%8F_(%D0%B3%D0%B5%D0%BE%D0%BC%D0%B5%D1%82%D1%80%D0%B8%D1%8F)). Ваша функция должна работать для любой точки корректно"
      ]
    },
    {
      "cell_type": "code",
      "execution_count": null,
      "metadata": {
        "collapsed": true,
        "id": "bmYN57ghmoWu"
      },
      "outputs": [],
      "source": [
        "def shrink_rotate(x, a, coef=1., angle=0.):\n",
        "    vect = x - a\n",
        "    vect*=coef*(np.sin(angle)*1j + np.cos(angle))\n",
        "    vect+=a\n",
        "    return vect\n",
        "    \n",
        "def shrink_rotate_conj(x, a, coef=1., angle=0.):\n",
        "     vect = x - a\n",
        "     vect*=coef*(np.sin(angle)*1j + np.cos(angle))\n",
        "     vect = a+vect.conjugate()\n",
        "     return vect\n",
        " \n",
        "    \n",
        "def geometric_inverse(x, a, r):\n",
        "    vect = x-a\n",
        "    coef = (r**2)/vect.conjugate()\n",
        "    vect = a + coef\n",
        "    return vect"
      ]
    },
    {
      "cell_type": "markdown",
      "metadata": {
        "id": "xHocOZFOmoWu"
      },
      "source": [
        "**Задание 5.4** Рассмотрим следующий процесс:\n",
        "\n",
        "```\n",
        "z = 0.5 + 0.*1j\n",
        "max_iter = 100000\n",
        "funcs = [\n",
        "    (lambda t: shrink_rotate(t, 0. + 1.*1j, coef=0.5, angle=0.)),\n",
        "    (lambda t: shrink_rotate(t, 1. + 0.*1j, coef=0.5, angle=0.)),\n",
        "    (lambda t: shrink_rotate(t, -1. + 0.*1j, coef=0.5, angle=0.))\n",
        "]\n",
        "\n",
        "for n_iter in range(max_iter):\n",
        "    n_func = np.random.choice(len(funcs))\n",
        "    z = funcs[n_func](z)\n",
        "```\n",
        "\n",
        "Запустите его и нарисуйте множество точек, получающихся на итерациях начиняя с десятой.\n",
        "\n",
        "*Указание*. Представьте квадрат $[-1,1]\\times[-1,1]$ матрицей пикселей 1000x1000. Сначала все элементы матрицы положим нулями, а на каждой итерации начиная с десятой будем присваивать единицу соответствующему пикселю этой матрицы. То, что получилось, можно нарисовать с помощью функции `plt.imshow(..., cmap='gray')`. Картинку лучше сделать побольше, предварив `imshow` вызовом `plt.figure(figsize=(20, 20))`."
      ]
    },
    {
      "cell_type": "code",
      "execution_count": null,
      "metadata": {
        "colab": {
          "base_uri": "https://localhost:8080/",
          "height": 1000
        },
        "collapsed": true,
        "id": "v6ZxlRg8moWv",
        "outputId": "285f358f-8a32-4cc1-9be0-57c8e0f8be15"
      },
      "outputs": [
        {
          "data": {
            "text/plain": [
              "<matplotlib.image.AxesImage at 0x7f7e07a25d60>"
            ]
          },
          "execution_count": 14,
          "metadata": {},
          "output_type": "execute_result"
        },
        {
          "data": {
            "image/png": "[encoded data removed]",
            "text/plain": [
              "<Figure size 1440x1440 with 1 Axes>"
            ]
          },
          "metadata": {},
          "output_type": "display_data"
        }
      ],
      "source": [
        "z = 0.5 + 0.*1j\n",
        "max_iter = 100000\n",
        "funcs = [\n",
        "    (lambda t: shrink_rotate(t, 0. + 1.*1j, coef=0.5, angle=0.)),\n",
        "    (lambda t: shrink_rotate(t, 1. + 0.*1j, coef=0.5, angle=0.)),\n",
        "    (lambda t: shrink_rotate(t, -1. + 0.*1j, coef=0.5, angle=0.))\n",
        "]\n",
        "sq = np.zeros((1000, 1000))\n",
        "for n_iter in range(max_iter):\n",
        "    n_func = np.random.choice(len(funcs))\n",
        "    z = funcs[n_func](z)\n",
        "    if n_iter >= 10:\n",
        "        m,n = 500-round(500*z.imag), 500-round(500*z.real)\n",
        "        if min(m, n)>=0 and 1000>max(m,n):\n",
        "            sq[m][n] = 1\n",
        "plt.figure(figsize=(20, 20))\n",
        "plt.imshow(sq, cmap='gray')           "
      ]
    },
    {
      "cell_type": "markdown",
      "metadata": {
        "id": "SeHg_NHQmoWv"
      },
      "source": [
        "**Задание 5.5 (со звёздочкой)** Попробуйте объяснить, почему получается именно эта фигура."
      ]
    },
    {
      "cell_type": "markdown",
      "metadata": {
        "id": "6RNxstzQmoWv"
      },
      "source": [
        "---\n",
        "Ваше объяснение"
      ]
    },
    {
      "cell_type": "markdown",
      "metadata": {
        "id": "sXLQBbutmoWv"
      },
      "source": [
        "**Задание 5.6** Поэкспериментируйте с другими преобразованиями. Попробуйте найти какой-нибудь другой красиво выглядящий фрактал."
      ]
    },
    {
      "cell_type": "code",
      "execution_count": null,
      "metadata": {
        "colab": {
          "base_uri": "https://localhost:8080/",
          "height": 1000
        },
        "id": "Rn7i9zIimoWv",
        "outputId": "7a6a999e-3a6c-4f45-bb5a-50a96f8f5aab"
      },
      "outputs": [
        {
          "output_type": "execute_result",
          "data": {
            "text/plain": [
              "<matplotlib.image.AxesImage at 0x7ff66ab71d60>"
            ]
          },
          "metadata": {},
          "execution_count": 8
        },
        {
          "output_type": "display_data",
          "data": {
            "text/plain": [
              "<Figure size 10800x2160 with 1 Axes>"
            ],
            "image/png": "[encoded data removed]"
          },
          "metadata": {
            "needs_background": "light"
          }
        }
      ],
      "source": [
        "z = 0.5 + 0.*1j\n",
        "max_iter = 100000\n",
        "funcs = [\n",
        "    (lambda t: shrink_rotate(t, 0. + 1.*1j, coef=0.5, angle=np.pi)),\n",
        "    (lambda t: shrink_rotate(t, 1. + 0.*1j, coef=0.5, angle=np.pi)),\n",
        "    (lambda t: shrink_rotate(t, -1. + 0.*1j, coef=0.5, angle=np.pi))\n",
        "]\n",
        "sq = np.zeros((400, 400))\n",
        "for n_iter in range(max_iter):\n",
        "    n_func = np.random.choice(len(funcs))\n",
        "    z = funcs[n_func](z)\n",
        "    if n_iter >= 10:\n",
        "        m,n = 200-round(200*z.imag), 200-round(200*z.real)\n",
        "        if min(m, n)>=0 and 400>max(m,n):\n",
        "            sq[m][n] = 1\n",
        "plt.figure(figsize=(150, 30))\n",
        "plt.imshow(sq, cmap='spring') "
      ]
    },
    {
      "cell_type": "markdown",
      "metadata": {
        "id": "z83MEnNzmoWv"
      },
      "source": [
        "## Часть 6. Функции от матриц"
      ]
    },
    {
      "cell_type": "markdown",
      "metadata": {
        "id": "-vEY6aKZmoWv"
      },
      "source": [
        "Пусть $A$ -- некоторая квадратная матрица. В некоторых приложениях возникает необходимость вычислить какую-нибудь сложную функцию от матрицы. Например, экспоненту или синус. Это можно делать с помощью разложения в ряд, но мы пойдем другим путем. В этой задаче мы продемонстрируем другой метод:\n",
        "\n",
        "1) Посчитаем какой-нибудь аннулирующий многочлен для матрицы $A$. Пусть это будет $f(x)$.\n",
        "\n",
        "2) Разложим многочлен $f$ на множители следующим образом $f(x) = (x-\\lambda_1)^{k_1}\\ldots (x-\\lambda_r)^{k_r}$.\n",
        "\n",
        "3) Пусть $\\phi$ -- гладкая функция, значение которой мы хотим посчитать на матрице $A$. Найдем какой-нибудь многочлен $g_\\phi$ степени меньше, чем степень $f$ со следующими свойствами: $g_\\phi(\\lambda_i)^{(d)} = \\phi^{(d)}(\\lambda_i)$ для всех $0 \\leqslant d < k_i$. То есть во всех корнях $f$ все производные $g_\\phi$ до кратности корня должны совпасть с производными $\\phi$.\n",
        "\n",
        "4) Утверждается, что $\\phi(A) = g_\\phi(A)$ (и в частности не зависит от выбора многочлена $g_\\phi$ с указанными свойствами).\n",
        "\n",
        "**А теперь задание**\n",
        "\n",
        "Каждая группа будет работать со своей матрицей:\n",
        "\n",
        "- у группы 221:\n",
        "\n",
        "`A = np.array([[-1,1,2,-2],[-5,4,3,-4],[0,0,2,-1],[1,0,-1,1]])`\n",
        "\n",
        "- у группы 222:\n",
        "\n",
        "`A = np.array([[-3,5,-5,-7],[-10,12,-9,-15],[5,-2,-2,1],[-9,7,-2,-7]])`\n",
        "\n",
        "- у группы 223:\n",
        "\n",
        "`A = np.array([[6,-3,-5,-3],[-7,4,6,4],[9,-3,-6,-5],[-3,-2,0,2]])`\n",
        "\n",
        "- у группы 224:\n",
        "\n",
        "`A = np.array([[-6,-4,3,6],[1,-3,0,-1],[-1,-1,-5,0],[1,1,1,-4]])`\n",
        "\n",
        " \n",
        "\n",
        "Посчитайте указанным способом:\n",
        " \n",
        "\n",
        "1) $B = e^A$.\n",
        " \n",
        "2) $S = \\sin A$.\n",
        "\n",
        "3) $T = \\cos A$.\n",
        "\n",
        "4) Проверьте равенство $S^2 + T^2 = E$, то есть $\\sin^2 A + \\cos^2 A = E$.\n",
        "\n",
        "5) $\\ln (B)$ и проверьте, что полученная матрица совпадает с $A$.\n",
        "\n",
        "Заметим, что для взятия производных и нахождения корней многочлена не обязательно использовать программы. "
      ]
    },
    {
      "cell_type": "markdown",
      "source": [
        "Зануляющий многочлен для матрицы А\n",
        "\n"
      ],
      "metadata": {
        "id": "HfqLuHpMTFLb"
      }
    },
    {
      "cell_type": "code",
      "execution_count": null,
      "metadata": {
        "id": "ohJlJm4KmoWw",
        "colab": {
          "base_uri": "https://localhost:8080/"
        },
        "outputId": "4ddea829-cd90-429e-a72d-8f0f89dc7c14"
      },
      "outputs": [
        {
          "output_type": "execute_result",
          "data": {
            "text/plain": [
              "array([  1.,  18., 121., 360., 400.])"
            ]
          },
          "metadata": {},
          "execution_count": 15
        }
      ],
      "source": [
        "np.poly(A)"
      ]
    },
    {
      "cell_type": "markdown",
      "source": [
        "То есть он равен $f(x) = x^4 + 18x^3 + 121x^2 + 360x + 400 $ или что то же самое $f(x) = (x+4)^2(x+5)^2$. \n",
        "Далее, пусть искомый многочлен $g(x) = d(x-a)(x-b)(x-c)$. Тогда в силу приведенного алгоритма имеем четыре уравнения:\n",
        "\n",
        "\\begin{cases}\n",
        "-64a + 16b - 4c + d = e^{-4}\\\\\n",
        "-125a + 25b - 5c + d = e^{-5}\\\\\n",
        "48a - 8b + c  = e^{-4}\\\\\n",
        "75a + 10b + c = e^{-5}\n",
        "\\end{cases}\n",
        "\n",
        "Решим полученную систему:"
      ],
      "metadata": {
        "id": "1UjCLVxPWdPz"
      }
    },
    {
      "cell_type": "code",
      "source": [
        "matrix = np.array([[-64., 16., -4., 1.],\n",
        "                   [-125., 25., -5., 1.],\n",
        "                  [48., -8., 1., 0.],\n",
        "                  [75., -10., 1., 0.]])\n",
        "\n",
        "eq = sla.solve(matrix, np.array([np.e **(-4.), np.e**(-5.), \n",
        "                                np.e ** (-4.), np.e ** (-5.)]))\n",
        "print(eq) #получили коэффициенты "
      ],
      "metadata": {
        "id": "htgPOuhhZnhA",
        "colab": {
          "base_uri": "https://localhost:8080/"
        },
        "outputId": "50ca1c9c-fcfc-4bd9-b723-5098ca1be483"
      },
      "execution_count": null,
      "outputs": [
        {
          "output_type": "stream",
          "name": "stdout",
          "text": [
            "[0.0018982  0.03141457 0.17851853 0.35124152]\n"
          ]
        }
      ]
    },
    {
      "cell_type": "markdown",
      "source": [
        "Найдем теперь матрицу $B = e^A$, подставив коэффициенты списка eq в многочлен  $g(x)$."
      ],
      "metadata": {
        "id": "CgvOyNjcI2y-"
      }
    },
    {
      "cell_type": "code",
      "source": [
        "A = np.array([[-6,-4,3,6],[1,-3,0,-1],[-1,-1,-5,0],[1,1,1,-4]])\n",
        "eq = sla.solve(matrix, np.array([np.e **(-4.), np.e**(-5.), \n",
        "                                np.e ** (-4.), np.e ** (-5.)]))\n",
        "B = eq[0] * matrix_power(A, 3) + eq[1] * matrix_power(A, 2) + eq[2] * matrix_power(A, 1) + eq[3] * np.eye(4)\n",
        "print(B)"
      ],
      "metadata": {
        "colab": {
          "base_uri": "https://localhost:8080/"
        },
        "id": "SfsCwAoMJSnJ",
        "outputId": "82813b6e-220d-4eff-8b38-112e43944011"
      },
      "execution_count": null,
      "outputs": [
        {
          "output_type": "stream",
          "name": "stdout",
          "text": [
            "[[ 1.11022302e-16 -3.17915329e-02  3.66312778e-02  6.16848637e-02]\n",
            " [ 6.73794700e-03  1.53740961e-02  1.15776919e-02  9.67948978e-03]\n",
            " [-6.73794700e-03  2.94154278e-03 -1.15776919e-02 -2.79951287e-02]\n",
            " [ 6.73794700e-03 -2.94154278e-03  2.98933308e-02  4.63107676e-02]]\n"
          ]
        }
      ]
    },
    {
      "cell_type": "markdown",
      "source": [
        "Найдем $S=sinA$"
      ],
      "metadata": {
        "id": "ChozoJtwLxOt"
      }
    },
    {
      "cell_type": "code",
      "source": [
        "eq = sla.solve(matrix, np.array([np.sin(-4.), np.sin(-5.), \n",
        "                                np.cos(-4.), np.cos(-5.)]))\n",
        "S = eq[0] * matrix_power(A, 3) + eq[1] * matrix_power(A, 2) + eq[2] * matrix_power(A, 1) + eq[3] * np.eye(4)\n",
        "S"
      ],
      "metadata": {
        "colab": {
          "base_uri": "https://localhost:8080/"
        },
        "id": "fVknDZ5KK8X_",
        "outputId": "39742a82-ab7a-478b-c719-2cb899c42af3"
      },
      "execution_count": null,
      "outputs": [
        {
          "output_type": "execute_result",
          "data": {
            "text/plain": [
              "array([[ 0.67526209, -0.64886478, -0.57210321, -0.20690062],\n",
              "       [ 0.28366219,  2.01203261, -0.93730581, -1.70675196],\n",
              "       [-0.28366219, -1.25523012,  2.34775192,  2.36039558],\n",
              "       [ 0.28366219,  1.25523012, -1.59094943, -1.60359308]])"
            ]
          },
          "metadata": {},
          "execution_count": 28
        }
      ]
    },
    {
      "cell_type": "markdown",
      "source": [
        "Найдем $T=cosA$"
      ],
      "metadata": {
        "id": "4Fybmj-BL6yy"
      }
    },
    {
      "cell_type": "code",
      "source": [
        "eq = sla.solve(matrix, np.array([np.cos(-4.), np.cos(-5.), \n",
        "                                np.sin(4.), np.sin(5.)]))\n",
        "T = eq[0] * matrix_power(A, 3) + eq[1] * matrix_power(A, 2) + eq[2] * matrix_power(A, 1) + eq[3] * np.eye(4)\n",
        "T"
      ],
      "metadata": {
        "colab": {
          "base_uri": "https://localhost:8080/"
        },
        "id": "gNC45CHNL6a_",
        "outputId": "b122f3cb-1294-446e-c85e-e8e9e25efcbb"
      },
      "execution_count": null,
      "outputs": [
        {
          "output_type": "execute_result",
          "data": {
            "text/plain": [
              "array([[ 1.24258646,  3.81407863, -2.65303258, -5.50818693],\n",
              "       [-0.95892427, -1.65580483,  0.20212178,  1.18266452],\n",
              "       [ 0.95892427,  1.00216121, -0.0989629 , -0.42586203],\n",
              "       [-0.95892427, -1.00216121, -0.55468072, -0.22778159]])"
            ]
          },
          "metadata": {},
          "execution_count": 20
        }
      ]
    },
    {
      "cell_type": "markdown",
      "source": [
        "Проверим равенство  $S^2 + T^2 = E$"
      ],
      "metadata": {
        "id": "YvYpVuDUNUvo"
      }
    },
    {
      "cell_type": "code",
      "source": [
        "S.dot(S) + T.dot(T)"
      ],
      "metadata": {
        "colab": {
          "base_uri": "https://localhost:8080/"
        },
        "id": "bCh2VtfhNeSY",
        "outputId": "bc1f2957-8af3-4551-dd5f-c0f060cc27b7"
      },
      "execution_count": null,
      "outputs": [
        {
          "output_type": "execute_result",
          "data": {
            "text/plain": [
              "array([[ 1.00000000e+00,  6.72795153e-14, -1.87627691e-14,\n",
              "        -1.04770359e-13],\n",
              "       [-1.12132525e-14,  1.00000000e+00, -1.55431223e-15,\n",
              "         1.28785871e-14],\n",
              "       [ 9.10382880e-15, -5.32907052e-15,  1.00000000e+00,\n",
              "        -1.06581410e-14],\n",
              "       [-1.40998324e-14,  8.88178420e-16,  4.44089210e-16,\n",
              "         1.00000000e+00]])"
            ]
          },
          "metadata": {},
          "execution_count": 22
        }
      ]
    },
    {
      "cell_type": "markdown",
      "source": [
        "Найдем $\\ln (B)$ и проверим, что полученная матрица совпадает с A. Найдем зануляющий многочлен для B."
      ],
      "metadata": {
        "id": "N5BO0CpZOF-X"
      }
    },
    {
      "cell_type": "code",
      "source": [
        "np.roots(np.poly(B))"
      ],
      "metadata": {
        "colab": {
          "base_uri": "https://localhost:8080/"
        },
        "id": "LSVBjMqmOcBZ",
        "outputId": "4c8ee7c1-15a9-4e52-9bd7-537836a26cf3"
      },
      "execution_count": null,
      "outputs": [
        {
          "output_type": "execute_result",
          "data": {
            "text/plain": [
              "array([0.01831564+1.86437094e-10j, 0.01831564-1.86437094e-10j,\n",
              "       0.00673794+0.00000000e+00j, 0.00673795+0.00000000e+00j])"
            ]
          },
          "metadata": {},
          "execution_count": 32
        }
      ]
    },
    {
      "cell_type": "markdown",
      "source": [
        "Невооруженным взглядом видно, что корни зануляющего многочлена матрицы B - это  $e^{-4} $ $ и $ $e^{-5}$. То есть зануляющий многочлен для матрицы B равен $f^*(x) = (x-e^{-4})^2(x-e^{-5})^2$. \n",
        "Далее пусть, искомый многочлен $g^*(x) = d(x-a)(x-b)(x-c)$. Тогда в силу приведенного алгоритма имеем четыре уравнения:\n",
        "\n",
        "\\begin{cases}\n",
        "ae^{-12} + e^{-8}b + e^{-4}c + d = -4\\\\\n",
        "ae^{-15} + e^{-10}b + e^{-5}c + d = -5\\\\\n",
        "3ae^{-8} + 2e^{-4}b + c  = e^4\\\\\n",
        "3ae^{-10} + 2e^{-5}b + c  = e^5\n",
        "\\end{cases}\n",
        "\n",
        "Решим полученную систему:"
      ],
      "metadata": {
        "id": "Uo-IYQUmQItw"
      }
    },
    {
      "cell_type": "code",
      "source": [
        "matrix = np.array([[np.e ** (-12.), np.e ** (-8.), np.e ** (-4.), 1.],\n",
        "                   [np.e ** (-15.), np.e ** (-10.), np.e ** (-5.), 1.],\n",
        "                    [3. * np.e ** (-8.), 2. * np.e ** (-4.), 1., 0.],\n",
        "                    [3. * np.e ** (-10.), 2. * np.e ** (-5.), 1., 0.]])\n",
        "\n",
        "eq = sla.solve(matrix, np.array([-4., -5., \n",
        "                                np.e ** (4.), np.e ** (5.)]))\n",
        "print(eq) #получили коэффициенты "
      ],
      "metadata": {
        "colab": {
          "base_uri": "https://localhost:8080/"
        },
        "id": "u1xldY8Uf9yp",
        "outputId": "11400449-dc55-465e-98e8-183ed333a949"
      },
      "execution_count": null,
      "outputs": [
        {
          "output_type": "stream",
          "name": "stdout",
          "text": [
            "[ 2.25788123e+05 -1.25367452e+04  2.86604713e+02 -6.43102913e+00]\n"
          ]
        }
      ]
    },
    {
      "cell_type": "markdown",
      "source": [
        "Найдем теперь матрицу $C = lnB$."
      ],
      "metadata": {
        "id": "EpoLx8wthMRP"
      }
    },
    {
      "cell_type": "code",
      "source": [
        "eq = sla.solve(matrix, np.array([-4., -5., \n",
        "                                np.e ** (4.), np.e ** (5.)]))\n",
        "C = eq[0] * matrix_power(B, 3) + eq[1] * matrix_power(B, 2) + eq[2] * matrix_power(B, 1) + eq[3] * np.eye(4)\n",
        "print(C)"
      ],
      "metadata": {
        "colab": {
          "base_uri": "https://localhost:8080/"
        },
        "id": "-XOUBOhahYxg",
        "outputId": "6776eeea-0d0f-467c-fe0e-f74f25d8ff3f"
      },
      "execution_count": null,
      "outputs": [
        {
          "output_type": "stream",
          "name": "stdout",
          "text": [
            "[[-6.00000000e+00 -4.00000000e+00  3.00000000e+00  6.00000000e+00]\n",
            " [ 1.00000000e+00 -3.00000000e+00  3.01980663e-14 -1.00000000e+00]\n",
            " [-1.00000000e+00 -1.00000000e+00 -5.00000000e+00 -3.37507799e-14]\n",
            " [ 1.00000000e+00  1.00000000e+00  1.00000000e+00 -4.00000000e+00]]\n"
          ]
        }
      ]
    },
    {
      "cell_type": "markdown",
      "source": [
        "Ура! Получили матрицу $A$ !"
      ],
      "metadata": {
        "id": "mWjeoS7oiD2V"
      }
    },
    {
      "cell_type": "markdown",
      "source": [],
      "metadata": {
        "id": "W4nqsxo0OWqc"
      }
    },
    {
      "cell_type": "markdown",
      "metadata": {
        "id": "4ErGoSFamoWw"
      },
      "source": [
        "Теперь попробуем поиграться с матрицами по-другому.\n",
        "\n",
        "1) Возьмите матрицу $A$ из предыдущего задания и посчитайте $e^A$ с помощью подстановки в следующий ряд $e^x = \\sum_{k = 0}^\\infty \\frac{x^k}{k!}$. Вычисление надо проводить так, надо считать сумму $\\sum_{k = 0}^n \\frac{A^k}{k!}$ до тех пор, пока максимум коэффициентов $A^{k+1} / (k+1)!$ не будет меньше заданной точности. Подумайте, как лучше организовать вычисления для подсчета частичной суммы.\n",
        "\n",
        "2) Возьмите случайную матрицу $A$ размером $10$ на $10$ и найдите $\\sin^2 A + \\cos^2 A$ воспользовавшись рядами $\\sin x = \\sum_{k=0}^\\infty \\frac{(-1)^k x^{2k + 1}}{(2k + 1)!}$ и $\\cos x = \\sum_{k=0}^\\infty \\frac{(-1)^kx^{2k}}{(2k)!}$. Проверьте, получилась ли единичная матрица."
      ]
    },
    {
      "cell_type": "markdown",
      "source": [
        " Найдем $\\sum_{k = 0}^n \\frac{A^k}{k!}$ "
      ],
      "metadata": {
        "id": "GUF09PjeraXE"
      }
    },
    {
      "cell_type": "code",
      "execution_count": null,
      "metadata": {
        "id": "0FXXh7JwmoWw",
        "colab": {
          "base_uri": "https://localhost:8080/"
        },
        "outputId": "cd8afd94-b459-4331-810e-19baa590715a"
      },
      "outputs": [
        {
          "output_type": "execute_result",
          "data": {
            "text/plain": [
              "array([[-1.14761508e-15, -3.17915329e-02,  3.66312778e-02,\n",
              "         6.16848637e-02],\n",
              "       [ 6.73794700e-03,  1.53740961e-02,  1.15776919e-02,\n",
              "         9.67948978e-03],\n",
              "       [-6.73794700e-03,  2.94154278e-03, -1.15776919e-02,\n",
              "        -2.79951287e-02],\n",
              "       [ 6.73794700e-03, -2.94154278e-03,  2.98933308e-02,\n",
              "         4.63107676e-02]])"
            ]
          },
          "metadata": {},
          "execution_count": 53
        }
      ],
      "source": [
        "finish = np.zeros((4, 4))\n",
        "matrix = np.eye(4)\n",
        "k = 0\n",
        "eps = 10.**(-30)\n",
        "while abs(matrix.max() -  matrix.min()) >= eps:\n",
        "    finish += matrix\n",
        "    k+=1\n",
        "    matrix = matrix.dot(A)\n",
        "    matrix /= k\n",
        "finish\n"
      ]
    },
    {
      "cell_type": "markdown",
      "source": [
        "С высокой точностью получившаяся матрица совпадает с $B$."
      ],
      "metadata": {
        "id": "4nhLVoyApo7A"
      }
    },
    {
      "cell_type": "markdown",
      "source": [
        "Найдем $\\sin^2 A + \\cos^2 A$"
      ],
      "metadata": {
        "id": "QNoNQpC63sms"
      }
    },
    {
      "cell_type": "code",
      "source": [
        "import random\n",
        "A = np.random.rand(10,10)\n",
        "matrix = np.eye(10)\n",
        "k = 1\n",
        "eps = 10.**(-10)\n",
        "sin = np.zeros((10,10))\n",
        "cos = np.zeros((10,10))\n",
        "matrix_sin = A.copy()\n",
        "matrix_cos = np.eye(10)\n",
        "while abs(matrix_cos.max()-matrix_cos.min()) >= eps or abs(matrix_sin.max()-matrix_sin.min()) >= eps:\n",
        "    k+=2\n",
        "\n",
        "    cos += matrix_cos\n",
        "    matrix_cos = (-1)*matrix_cos.dot(A.dot(A))\n",
        "    matrix_cos /= (k-2)*(k-1)\n",
        "\n",
        "    sin += matrix_sin\n",
        "    matrix_sin = (-1)*matrix_sin.dot(A.dot(A))\n",
        "    matrix_sin /= (k-1)*k\n",
        "\n",
        "    \n",
        "  \n",
        "print(sin.dot(sin)+cos.dot(cos))\n"
      ],
      "metadata": {
        "colab": {
          "base_uri": "https://localhost:8080/"
        },
        "id": "MPuGS42lrZCq",
        "outputId": "16e77a71-3027-4d3c-90c0-35ba41322052"
      },
      "execution_count": null,
      "outputs": [
        {
          "output_type": "stream",
          "name": "stdout",
          "text": [
            "[[1.00000000e+00 1.48191182e-11 1.48331347e-11 1.53107249e-11\n",
            "  1.30626621e-11 1.38348222e-11 1.69030345e-11 1.23294708e-11\n",
            "  1.37680145e-11 1.32576172e-11]\n",
            " [1.25290889e-11 1.00000000e+00 1.07513026e-11 1.10966236e-11\n",
            "  9.46609457e-12 1.00231767e-11 1.22464122e-11 8.93386060e-12\n",
            "  9.97570776e-12 9.60842517e-12]\n",
            " [1.85529370e-11 1.59067759e-11 1.00000000e+00 1.64307179e-11\n",
            "  1.40158996e-11 1.48425291e-11 1.81392401e-11 1.32318566e-11\n",
            "  1.47752921e-11 1.42276017e-11]\n",
            " [1.75478798e-11 1.50449653e-11 1.50582324e-11 1.00000000e+00\n",
            "  1.32616140e-11 1.40427114e-11 1.71544029e-11 1.25183475e-11\n",
            "  1.39748213e-11 1.34579015e-11]\n",
            " [1.49356638e-11 1.28029809e-11 1.28154241e-11 1.32265639e-11\n",
            "  1.00000000e+00 1.19465549e-11 1.45977674e-11 1.06517850e-11\n",
            "  1.18931809e-11 1.14527415e-11]\n",
            " [1.42980072e-11 1.22543087e-11 1.22666322e-11 1.26600397e-11\n",
            "  1.08018594e-11 1.00000000e+00 1.39750433e-11 1.01949282e-11\n",
            "  1.13828391e-11 1.09644516e-11]\n",
            " [1.71186121e-11 1.46706258e-11 1.46841983e-11 1.51615526e-11\n",
            "  1.29334876e-11 1.36965994e-11 1.00000000e+00 1.22062915e-11\n",
            "  1.36300693e-11 1.31266109e-11]\n",
            " [1.56262780e-11 1.33973145e-11 1.34071504e-11 1.38442313e-11\n",
            "  1.18095533e-11 1.25024990e-11 1.52783897e-11 1.00000000e+00\n",
            "  1.24453226e-11 1.19859678e-11]\n",
            " [2.07162759e-11 1.77563242e-11 1.77701187e-11 1.83411064e-11\n",
            "  1.56490376e-11 1.65689684e-11 2.02488980e-11 1.47727941e-11\n",
            "  1.00000000e+00 1.58850016e-11]\n",
            " [1.87348678e-11 1.60594871e-11 1.60735036e-11 1.65922276e-11\n",
            "  1.41548301e-11 1.49904533e-11 1.83119839e-11 1.33594247e-11\n",
            "  1.49185872e-11 1.00000000e+00]]\n"
          ]
        }
      ]
    },
    {
      "cell_type": "markdown",
      "source": [
        "Снова победа! Данная матрица действительно приближает матрицу $E$"
      ],
      "metadata": {
        "id": "AxgNwLWu_jeo"
      }
    },
    {
      "cell_type": "markdown",
      "metadata": {
        "id": "H9iZAF6TmoWw"
      },
      "source": [
        "## Часть 7 (бонус). Метод Гаусса или обратные матрицы?"
      ]
    },
    {
      "cell_type": "markdown",
      "metadata": {
        "id": "1liSd6SwmoWw"
      },
      "source": [
        "Пусть нам дано матричное уравнение $Ax = B$, где $A$ &mdash; матрица размера $n\\times n$, а $B$ &mdash; матрица размера $n\\times m$ (отметим, что это уравнение можно интерпретировать как $m$ систем с векторными правыми частями и одинаковыми левыми). Вообще говоря, методов решения таких уравнений очень много, но мы пока рассмотрим два из них, с которыми вы уже хорошо знакомы.\n",
        "1. Метод Гаусса;\n",
        "2. Умножение на обратную матрицу: $x = A^{-1}B$.\n",
        "\n",
        "В этом задании вы попробуете ответить на вопрос о том, какой из этих методов эффективнее. Проведите два эксперимента:\n",
        "- сравните скорости решения системы при фиксированном `m = 10` и `n`, изменяющемся в пределах от 10 до 1000; например, для `n=10, 50, 100, 200, 500, 1000` (рост числа неизвестных при фиксированном количестве правых частей);\n",
        "- сравните скорости решения системы при фиксированном `n = 100` и `m`, меняющемся от 10 до 10000; например, для `m = 10, 100, 500, 1000, 2000, 5000, 10000` (рост числа правых частей при фиксированном числе неизвестных).\n",
        "\n",
        "При проведении экспериментов не возбраняется использовать циклы `for`.\n",
        "\n",
        "Эксперименты проведите на случайных матрицах, созданных с помощью функции `numpy.random.rand`. Постройте графики времени выполнения функции от размерности (лучше в логарифмическом масштабе). Сделайте выводы (в письменном виде!) о том, какой их методов оказывается лучше в каких обстоятельствах.\n",
        "\n",
        "Чтобы всё это не казалось вам чёрной магией, найдите число операций (суммарно сложения, умножения и деления), необходимых для решения системы каждым из методов. Обратите внимание на члены суммарной степени 3 (суммарной по $m$ и $n$; члены меньшего порядка можете даже не считать). Постарайтесь объяснить полученные ранее результаты."
      ]
    },
    {
      "cell_type": "code",
      "execution_count": null,
      "metadata": {
        "collapsed": true,
        "id": "LlZPR661moWw"
      },
      "outputs": [],
      "source": []
    }
  ],
  "metadata": {
    "colab": {
      "provenance": [],
      "include_colab_link": true
    },
    "kernelspec": {
      "display_name": "Python (Pyodide)",
      "language": "python",
      "name": "python"
    },
    "language_info": {
      "codemirror_mode": {
        "name": "python",
        "version": 3
      },
      "file_extension": ".py",
      "mimetype": "text/x-python",
      "name": "python",
      "nbconvert_exporter": "python",
      "pygments_lexer": "ipython3",
      "version": "3.8"
    }
  },
  "nbformat": 4,
  "nbformat_minor": 0
}